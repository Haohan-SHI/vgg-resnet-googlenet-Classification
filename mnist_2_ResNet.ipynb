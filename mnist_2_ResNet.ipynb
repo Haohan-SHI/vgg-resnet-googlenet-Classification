{
 "cells": [
  {
   "cell_type": "code",
   "execution_count": 1,
   "metadata": {},
   "outputs": [],
   "source": [
    "import torch\n",
    "import torch.nn as nn\n",
    "from torchvision import datasets, transforms\n",
    "from torch import optim\n",
    "import matplotlib.pyplot as plt\n",
    "from torch.utils.data import random_split\n",
    "import matplotlib.pyplot as plt\n",
    "from torchsummary import summary"
   ]
  },
  {
   "cell_type": "code",
   "execution_count": 3,
   "metadata": {},
   "outputs": [
    {
     "name": "stdout",
     "output_type": "stream",
     "text": [
      "2024-05-04 18:40:12.374252\n"
     ]
    }
   ],
   "source": [
    "from datetime import datetime\n",
    "\n",
    "current_datetime = datetime.now()\n",
    "print(current_datetime)\n"
   ]
  },
  {
   "cell_type": "markdown",
   "metadata": {},
   "source": [
    "### 1. Preprocess the MNIST dataset and read the data"
   ]
  },
  {
   "cell_type": "code",
   "execution_count": 4,
   "metadata": {},
   "outputs": [],
   "source": [
    "# Define a transform to normalize the data\n",
    "transform = transforms.Compose([transforms.Resize((224, 224)), \n",
    "                                transforms.Grayscale(num_output_channels=3),\n",
    "                                transforms.ToTensor(),\n",
    "                                transforms.Normalize((0.5,), (0.5,))])"
   ]
  },
  {
   "cell_type": "code",
   "execution_count": 19,
   "metadata": {},
   "outputs": [],
   "source": [
    "# Download and load the training data\n",
    "trainset = datasets.MNIST('./dataset/train', download=False, train=True, transform=transform)\n",
    "trainloader = torch.utils.data.DataLoader(trainset, batch_size=64, shuffle=True)\n",
    "\n",
    "# Download and load the test data\n",
    "testset = datasets.MNIST('./dataset/test', download=False, train=False, transform=transform)\n",
    "testloader = torch.utils.data.DataLoader(testset, batch_size=64, shuffle=True)\n",
    "\n",
    "\n",
    "# Split the training data into training set and validation set\n",
    "val_size = int(0.1 * len(trainset))  # 10% for validation set\n",
    "train_size = len(trainset) - val_size\n",
    "trainset, valset = random_split(trainset, [train_size, val_size])\n",
    "\n",
    "trainloader = torch.utils.data.DataLoader(trainset, batch_size=64, shuffle=True)\n",
    "valloader = torch.utils.data.DataLoader(valset, batch_size=64, shuffle=True)\n",
    "\n",
    "# Download and load the test data\n",
    "testset = datasets.MNIST('./Desktop/mnist classification/dataset/test', download=False, train=False, transform=transform)\n",
    "testloader = torch.utils.data.DataLoader(testset, batch_size=64, shuffle=True)"
   ]
  },
  {
   "cell_type": "markdown",
   "metadata": {},
   "source": [
    "##### out of memory - reduce the training set to 1000 samples"
   ]
  },
  {
   "cell_type": "code",
   "execution_count": 5,
   "metadata": {},
   "outputs": [],
   "source": [
    "# out of memory - cut the training set to 1000 samples\n",
    "from torch.utils.data import Subset\n",
    "\n",
    "# Define the number of samples for debugging\n",
    "num_samples = 500\n",
    "\n",
    "# Download and load the training data\n",
    "trainset = datasets.MNIST('./dataset/train', download=False, train=True, transform=transform)\n",
    "trainset = Subset(trainset, range(num_samples))  # Use only the first num_samples samples\n",
    "trainloader = torch.utils.data.DataLoader(trainset, batch_size=64, shuffle=True)\n",
    "\n",
    "# Download and load the test data\n",
    "testset = datasets.MNIST('./dataset/test', download=False, train=False, transform=transform)\n",
    "testset = Subset(testset, range(num_samples))  # Use only the first num_samples samples\n",
    "testloader = torch.utils.data.DataLoader(testset, batch_size=64, shuffle=True)\n",
    "\n",
    "# Split the training data into training set and validation set\n",
    "val_size = int(0.1 * len(trainset))  # 10% for validation set\n",
    "train_size = len(trainset) - val_size\n",
    "trainset, valset = random_split(trainset, [train_size, val_size])\n",
    "\n",
    "trainloader = torch.utils.data.DataLoader(trainset, batch_size=64, shuffle=True)\n",
    "valloader = torch.utils.data.DataLoader(valset, batch_size=64, shuffle=True)"
   ]
  },
  {
   "cell_type": "markdown",
   "metadata": {},
   "source": [
    "#### Dataset website link:  http://yann.lecun.com/exdb/mnist/"
   ]
  },
  {
   "cell_type": "markdown",
   "metadata": {},
   "source": [
    "### 2. Define the ResNet model"
   ]
  },
  {
   "cell_type": "code",
   "execution_count": 7,
   "metadata": {},
   "outputs": [],
   "source": [
    "import torch\n",
    "from torchvision import models\n",
    "\n",
    "# Define the ResNet model\n",
    "class ResNet(nn.Module):\n",
    "    def __init__(self, num_classes=10):\n",
    "        super(ResNet, self).__init__()\n",
    "        # Load a pre-trained version of ResNet-18\n",
    "        self.resnet = models.resnet18(pretrained=True)\n",
    "        # Replace the last fully-connected layer\n",
    "        # Parameters of newly constructed modules have requires_grad=True by default\n",
    "        num_ftrs = self.resnet.fc.in_features\n",
    "        self.resnet.fc = torch.nn.Linear(num_ftrs, num_classes)\n",
    "\n",
    "    def forward(self, x):\n",
    "        x = self.resnet(x)\n",
    "        return x"
   ]
  },
  {
   "cell_type": "markdown",
   "metadata": {},
   "source": [
    "### 3. Model summary"
   ]
  },
  {
   "cell_type": "code",
   "execution_count": 8,
   "metadata": {},
   "outputs": [
    {
     "name": "stderr",
     "output_type": "stream",
     "text": [
      "d:\\CODING\\Anaconda\\envs\\pytorch\\lib\\site-packages\\torchvision\\models\\_utils.py:208: UserWarning: The parameter 'pretrained' is deprecated since 0.13 and may be removed in the future, please use 'weights' instead.\n",
      "  warnings.warn(\n",
      "d:\\CODING\\Anaconda\\envs\\pytorch\\lib\\site-packages\\torchvision\\models\\_utils.py:223: UserWarning: Arguments other than a weight enum or `None` for 'weights' are deprecated since 0.13 and may be removed in the future. The current behavior is equivalent to passing `weights=ResNet18_Weights.IMAGENET1K_V1`. You can also use `weights=ResNet18_Weights.DEFAULT` to get the most up-to-date weights.\n",
      "  warnings.warn(msg)\n"
     ]
    },
    {
     "name": "stdout",
     "output_type": "stream",
     "text": [
      "----------------------------------------------------------------\n",
      "        Layer (type)               Output Shape         Param #\n",
      "================================================================\n",
      "            Conv2d-1         [-1, 64, 112, 112]           9,408\n",
      "       BatchNorm2d-2         [-1, 64, 112, 112]             128\n",
      "              ReLU-3         [-1, 64, 112, 112]               0\n",
      "         MaxPool2d-4           [-1, 64, 56, 56]               0\n",
      "            Conv2d-5           [-1, 64, 56, 56]          36,864\n",
      "       BatchNorm2d-6           [-1, 64, 56, 56]             128\n",
      "              ReLU-7           [-1, 64, 56, 56]               0\n",
      "            Conv2d-8           [-1, 64, 56, 56]          36,864\n",
      "       BatchNorm2d-9           [-1, 64, 56, 56]             128\n",
      "             ReLU-10           [-1, 64, 56, 56]               0\n",
      "       BasicBlock-11           [-1, 64, 56, 56]               0\n",
      "           Conv2d-12           [-1, 64, 56, 56]          36,864\n",
      "      BatchNorm2d-13           [-1, 64, 56, 56]             128\n",
      "             ReLU-14           [-1, 64, 56, 56]               0\n",
      "           Conv2d-15           [-1, 64, 56, 56]          36,864\n",
      "      BatchNorm2d-16           [-1, 64, 56, 56]             128\n",
      "             ReLU-17           [-1, 64, 56, 56]               0\n",
      "       BasicBlock-18           [-1, 64, 56, 56]               0\n",
      "           Conv2d-19          [-1, 128, 28, 28]          73,728\n",
      "      BatchNorm2d-20          [-1, 128, 28, 28]             256\n",
      "             ReLU-21          [-1, 128, 28, 28]               0\n",
      "           Conv2d-22          [-1, 128, 28, 28]         147,456\n",
      "      BatchNorm2d-23          [-1, 128, 28, 28]             256\n",
      "           Conv2d-24          [-1, 128, 28, 28]           8,192\n",
      "      BatchNorm2d-25          [-1, 128, 28, 28]             256\n",
      "             ReLU-26          [-1, 128, 28, 28]               0\n",
      "       BasicBlock-27          [-1, 128, 28, 28]               0\n",
      "           Conv2d-28          [-1, 128, 28, 28]         147,456\n",
      "      BatchNorm2d-29          [-1, 128, 28, 28]             256\n",
      "             ReLU-30          [-1, 128, 28, 28]               0\n",
      "           Conv2d-31          [-1, 128, 28, 28]         147,456\n",
      "      BatchNorm2d-32          [-1, 128, 28, 28]             256\n",
      "             ReLU-33          [-1, 128, 28, 28]               0\n",
      "       BasicBlock-34          [-1, 128, 28, 28]               0\n",
      "           Conv2d-35          [-1, 256, 14, 14]         294,912\n",
      "      BatchNorm2d-36          [-1, 256, 14, 14]             512\n",
      "             ReLU-37          [-1, 256, 14, 14]               0\n",
      "           Conv2d-38          [-1, 256, 14, 14]         589,824\n",
      "      BatchNorm2d-39          [-1, 256, 14, 14]             512\n",
      "           Conv2d-40          [-1, 256, 14, 14]          32,768\n",
      "      BatchNorm2d-41          [-1, 256, 14, 14]             512\n",
      "             ReLU-42          [-1, 256, 14, 14]               0\n",
      "       BasicBlock-43          [-1, 256, 14, 14]               0\n",
      "           Conv2d-44          [-1, 256, 14, 14]         589,824\n",
      "      BatchNorm2d-45          [-1, 256, 14, 14]             512\n",
      "             ReLU-46          [-1, 256, 14, 14]               0\n",
      "           Conv2d-47          [-1, 256, 14, 14]         589,824\n",
      "      BatchNorm2d-48          [-1, 256, 14, 14]             512\n",
      "             ReLU-49          [-1, 256, 14, 14]               0\n",
      "       BasicBlock-50          [-1, 256, 14, 14]               0\n",
      "           Conv2d-51            [-1, 512, 7, 7]       1,179,648\n",
      "      BatchNorm2d-52            [-1, 512, 7, 7]           1,024\n",
      "             ReLU-53            [-1, 512, 7, 7]               0\n",
      "           Conv2d-54            [-1, 512, 7, 7]       2,359,296\n",
      "      BatchNorm2d-55            [-1, 512, 7, 7]           1,024\n",
      "           Conv2d-56            [-1, 512, 7, 7]         131,072\n",
      "      BatchNorm2d-57            [-1, 512, 7, 7]           1,024\n",
      "             ReLU-58            [-1, 512, 7, 7]               0\n",
      "       BasicBlock-59            [-1, 512, 7, 7]               0\n",
      "           Conv2d-60            [-1, 512, 7, 7]       2,359,296\n",
      "      BatchNorm2d-61            [-1, 512, 7, 7]           1,024\n",
      "             ReLU-62            [-1, 512, 7, 7]               0\n",
      "           Conv2d-63            [-1, 512, 7, 7]       2,359,296\n",
      "      BatchNorm2d-64            [-1, 512, 7, 7]           1,024\n",
      "             ReLU-65            [-1, 512, 7, 7]               0\n",
      "       BasicBlock-66            [-1, 512, 7, 7]               0\n",
      "AdaptiveAvgPool2d-67            [-1, 512, 1, 1]               0\n",
      "           Linear-68                   [-1, 10]           5,130\n",
      "           ResNet-69                   [-1, 10]               0\n",
      "================================================================\n",
      "Total params: 11,181,642\n",
      "Trainable params: 11,181,642\n",
      "Non-trainable params: 0\n",
      "----------------------------------------------------------------\n",
      "Input size (MB): 0.57\n",
      "Forward/backward pass size (MB): 62.79\n",
      "Params size (MB): 42.65\n",
      "Estimated Total Size (MB): 106.01\n",
      "----------------------------------------------------------------\n"
     ]
    }
   ],
   "source": [
    "device = torch.device(\"cuda\" if torch.cuda.is_available() else \"cpu\")\n",
    "resnet = ResNet(num_classes=10).to(device)\n",
    "summary(resnet, (3, 224, 224))\n",
    "\n"
   ]
  },
  {
   "cell_type": "markdown",
   "metadata": {},
   "source": [
    "### 4. Train and visulization of the ResNet model"
   ]
  },
  {
   "cell_type": "code",
   "execution_count": 10,
   "metadata": {},
   "outputs": [
    {
     "name": "stdout",
     "output_type": "stream",
     "text": [
      "Epoch 1/50 | Training loss: 2.2732553482055664 | Validation loss: 2.3357110023498535 | Training accuracy: 19.77777777777778% | Validation accuracy: 10.0%\n",
      "Epoch 2/50 | Training loss: 1.8665281385183334 | Validation loss: 2.1596126556396484 | Training accuracy: 33.77777777777778% | Validation accuracy: 22.0%\n",
      "Epoch 3/50 | Training loss: 1.4501749724149704 | Validation loss: 1.6630803346633911 | Training accuracy: 62.666666666666664% | Validation accuracy: 50.0%\n",
      "Epoch 4/50 | Training loss: 0.996775433421135 | Validation loss: 1.4468109607696533 | Training accuracy: 83.77777777777777% | Validation accuracy: 56.0%\n",
      "Epoch 5/50 | Training loss: 0.6704172641038895 | Validation loss: 1.2232016324996948 | Training accuracy: 92.22222222222223% | Validation accuracy: 76.0%\n",
      "Epoch 6/50 | Training loss: 0.5407003164291382 | Validation loss: 0.9798831939697266 | Training accuracy: 94.0% | Validation accuracy: 74.0%\n",
      "Epoch 7/50 | Training loss: 0.4172525368630886 | Validation loss: 0.5670850872993469 | Training accuracy: 96.44444444444444% | Validation accuracy: 86.0%\n",
      "Epoch 8/50 | Training loss: 0.3257227409631014 | Validation loss: 0.6334317922592163 | Training accuracy: 98.66666666666667% | Validation accuracy: 82.0%\n",
      "Epoch 9/50 | Training loss: 0.3267816361039877 | Validation loss: 0.41423317790031433 | Training accuracy: 98.44444444444444% | Validation accuracy: 88.0%\n",
      "Epoch 10/50 | Training loss: 0.27907288633286953 | Validation loss: 0.5760980248451233 | Training accuracy: 98.0% | Validation accuracy: 86.0%\n",
      "Epoch 11/50 | Training loss: 0.22920149751007557 | Validation loss: 0.5059850811958313 | Training accuracy: 99.11111111111111% | Validation accuracy: 92.0%\n",
      "Epoch 12/50 | Training loss: 0.4436233602464199 | Validation loss: 0.6476693749427795 | Training accuracy: 98.66666666666667% | Validation accuracy: 82.0%\n",
      "Epoch 13/50 | Training loss: 0.17886767350137234 | Validation loss: 0.6274634003639221 | Training accuracy: 99.55555555555556% | Validation accuracy: 80.0%\n",
      "Epoch 14/50 | Training loss: 0.19699887186288834 | Validation loss: 0.3527442216873169 | Training accuracy: 98.88888888888889% | Validation accuracy: 90.0%\n",
      "Epoch 15/50 | Training loss: 0.23278226889669895 | Validation loss: 0.6501054167747498 | Training accuracy: 99.11111111111111% | Validation accuracy: 88.0%\n",
      "Epoch 16/50 | Training loss: 0.1933362204581499 | Validation loss: 0.4819432199001312 | Training accuracy: 98.88888888888889% | Validation accuracy: 88.0%\n",
      "Epoch 17/50 | Training loss: 0.163641304243356 | Validation loss: 0.33222126960754395 | Training accuracy: 99.33333333333333% | Validation accuracy: 90.0%\n",
      "Epoch 18/50 | Training loss: 0.08850440848618746 | Validation loss: 0.5360584855079651 | Training accuracy: 99.55555555555556% | Validation accuracy: 84.0%\n",
      "Epoch 19/50 | Training loss: 0.33570366725325584 | Validation loss: 0.3460574746131897 | Training accuracy: 98.88888888888889% | Validation accuracy: 88.0%\n",
      "Epoch 20/50 | Training loss: 0.1459451108239591 | Validation loss: 0.45088982582092285 | Training accuracy: 98.88888888888889% | Validation accuracy: 90.0%\n",
      "Epoch 21/50 | Training loss: 0.15164926834404469 | Validation loss: 0.39595749974250793 | Training accuracy: 98.88888888888889% | Validation accuracy: 92.0%\n",
      "Epoch 22/50 | Training loss: 0.07379428739659488 | Validation loss: 0.2667582333087921 | Training accuracy: 100.0% | Validation accuracy: 92.0%\n",
      "Epoch 23/50 | Training loss: 0.1275066330563277 | Validation loss: 0.2782615125179291 | Training accuracy: 99.77777777777777% | Validation accuracy: 92.0%\n",
      "Epoch 24/50 | Training loss: 0.06175796082243323 | Validation loss: 0.34451785683631897 | Training accuracy: 100.0% | Validation accuracy: 92.0%\n",
      "Epoch 25/50 | Training loss: 0.07695792033337057 | Validation loss: 0.34632986783981323 | Training accuracy: 100.0% | Validation accuracy: 86.0%\n",
      "Epoch 26/50 | Training loss: 0.08283405704423785 | Validation loss: 0.3193044364452362 | Training accuracy: 100.0% | Validation accuracy: 90.0%\n",
      "Epoch 27/50 | Training loss: 0.06942058831918985 | Validation loss: 0.33315083384513855 | Training accuracy: 100.0% | Validation accuracy: 90.0%\n",
      "Epoch 28/50 | Training loss: 0.310342171927914 | Validation loss: 0.38232922554016113 | Training accuracy: 99.55555555555556% | Validation accuracy: 88.0%\n",
      "Epoch 29/50 | Training loss: 0.058540846686810255 | Validation loss: 0.5862734913825989 | Training accuracy: 99.77777777777777% | Validation accuracy: 82.0%\n",
      "Epoch 30/50 | Training loss: 0.4662699168547988 | Validation loss: 0.3774093985557556 | Training accuracy: 98.66666666666667% | Validation accuracy: 88.0%\n",
      "Epoch 31/50 | Training loss: 0.1540762116201222 | Validation loss: 0.4702659249305725 | Training accuracy: 99.77777777777777% | Validation accuracy: 88.0%\n",
      "Epoch 32/50 | Training loss: 0.1019589293282479 | Validation loss: 0.310396283864975 | Training accuracy: 100.0% | Validation accuracy: 90.0%\n",
      "Epoch 33/50 | Training loss: 0.04923858493566513 | Validation loss: 0.17833074927330017 | Training accuracy: 100.0% | Validation accuracy: 94.0%\n",
      "Epoch 34/50 | Training loss: 0.0633775305468589 | Validation loss: 0.1530039757490158 | Training accuracy: 100.0% | Validation accuracy: 94.0%\n",
      "Epoch 35/50 | Training loss: 0.4410975454375148 | Validation loss: 0.15377233922481537 | Training accuracy: 99.55555555555556% | Validation accuracy: 94.0%\n",
      "Epoch 36/50 | Training loss: 0.10304224723950028 | Validation loss: 0.24893364310264587 | Training accuracy: 100.0% | Validation accuracy: 94.0%\n",
      "Epoch 37/50 | Training loss: 0.1006454851012677 | Validation loss: 0.3394804000854492 | Training accuracy: 100.0% | Validation accuracy: 90.0%\n",
      "Epoch 38/50 | Training loss: 0.042696764692664146 | Validation loss: 0.2674008309841156 | Training accuracy: 99.77777777777777% | Validation accuracy: 92.0%\n",
      "Epoch 39/50 | Training loss: 0.4621924953535199 | Validation loss: 0.22971560060977936 | Training accuracy: 99.55555555555556% | Validation accuracy: 92.0%\n",
      "Epoch 40/50 | Training loss: 0.04524227499496192 | Validation loss: 0.22342334687709808 | Training accuracy: 100.0% | Validation accuracy: 94.0%\n",
      "Epoch 41/50 | Training loss: 0.05342622834723443 | Validation loss: 0.2479865401983261 | Training accuracy: 99.55555555555556% | Validation accuracy: 94.0%\n",
      "Epoch 42/50 | Training loss: 0.05055060295853764 | Validation loss: 0.2897578179836273 | Training accuracy: 99.77777777777777% | Validation accuracy: 92.0%\n",
      "Epoch 43/50 | Training loss: 0.05078438809141517 | Validation loss: 0.2657105326652527 | Training accuracy: 100.0% | Validation accuracy: 92.0%\n",
      "Epoch 44/50 | Training loss: 0.11218163516605273 | Validation loss: 0.27391937375068665 | Training accuracy: 99.77777777777777% | Validation accuracy: 92.0%\n",
      "Epoch 45/50 | Training loss: 0.061920604668557644 | Validation loss: 0.2548421025276184 | Training accuracy: 100.0% | Validation accuracy: 92.0%\n",
      "Epoch 46/50 | Training loss: 0.028669110615737736 | Validation loss: 0.20761339366436005 | Training accuracy: 100.0% | Validation accuracy: 90.0%\n",
      "Epoch 47/50 | Training loss: 0.06686139688827097 | Validation loss: 0.2513684034347534 | Training accuracy: 100.0% | Validation accuracy: 90.0%\n",
      "Epoch 48/50 | Training loss: 0.04582992824725807 | Validation loss: 0.22017858922481537 | Training accuracy: 100.0% | Validation accuracy: 92.0%\n",
      "Epoch 49/50 | Training loss: 0.09913398273056373 | Validation loss: 0.2315375655889511 | Training accuracy: 99.77777777777777% | Validation accuracy: 92.0%\n",
      "Epoch 50/50 | Training loss: 0.2867873521754518 | Validation loss: 0.1997929811477661 | Training accuracy: 99.55555555555556% | Validation accuracy: 94.0%\n"
     ]
    },
    {
     "data": {
      "image/png": "[encoded data removed]",
      "text/plain": [
       "<Figure size 1200x400 with 2 Axes>"
      ]
     },
     "metadata": {},
     "output_type": "display_data"
    }
   ],
   "source": [
    "# Initialize the ResNet model and move it to the GPU if available\n",
    "resnet = ResNet(num_classes=10).to(device)\n",
    "\n",
    "# Define loss and optimizer\n",
    "criterion = nn.CrossEntropyLoss()\n",
    "optimizer = optim.SGD(resnet.parameters(), lr=0.001, momentum=0.9)\n",
    "\n",
    "# Initialize lists to hold the losses and accuracies\n",
    "train_losses = []\n",
    "val_losses = []\n",
    "train_accuracies = []\n",
    "val_accuracies = []\n",
    "\n",
    "# Initialize the patience and the counter for early stopping\n",
    "# add early stopping to prevent overfitting during model training\n",
    "patience = 30\n",
    "early_stopping_counter = 0\n",
    "\n",
    "# Initialize the minimum validation loss to a large value\n",
    "min_val_loss = float('inf')\n",
    "\n",
    "# Train the model\n",
    "epochs = 50\n",
    "for epoch in range(epochs):\n",
    "    running_loss = 0\n",
    "    correct_train = 0\n",
    "    total_train = 0\n",
    "    resnet.train()  # Set the model to training mode\n",
    "    for inputs, labels in trainloader:\n",
    "        # Move input and label tensors to the GPU\n",
    "        inputs, labels = inputs.to(device), labels.to(device)\n",
    "        \n",
    "        optimizer.zero_grad()\n",
    "        outputs = resnet(inputs)\n",
    "        loss = criterion(outputs, labels)\n",
    "        loss.backward()\n",
    "        optimizer.step()\n",
    "        running_loss += loss.item()\n",
    "        _, predicted_train = outputs.max(1)\n",
    "        total_train += labels.size(0)\n",
    "        correct_train += predicted_train.eq(labels).sum().item()\n",
    "    else:\n",
    "        # Save the loss and accuracy for this epoch\n",
    "        train_losses.append(running_loss/len(trainloader))\n",
    "        train_accuracies.append(100 * correct_train / total_train)\n",
    "        \n",
    "        # Validation\n",
    "        resnet.eval()  # Set the model to evaluation mode\n",
    "        val_loss = 0\n",
    "        correct = 0\n",
    "        total = 0\n",
    "        with torch.no_grad():\n",
    "            for inputs, labels in valloader:\n",
    "                inputs, labels = inputs.to(device), labels.to(device)\n",
    "                outputs = resnet(inputs)\n",
    "                loss = criterion(outputs, labels)\n",
    "                val_loss += loss.item()\n",
    "                _, predicted = outputs.max(1)\n",
    "                total += labels.size(0)\n",
    "                correct += predicted.eq(labels).sum().item()\n",
    "        \n",
    "        val_loss /= len(valloader)\n",
    "        val_accuracy = 100 * correct / total\n",
    "        val_losses.append(val_loss)\n",
    "        val_accuracies.append(val_accuracy)\n",
    "        \n",
    "        # Check if the validation loss is the lowest so far\n",
    "        if val_loss < min_val_loss:\n",
    "            # If so, save the model and update the minimum validation loss\n",
    "            torch.save(resnet.state_dict(), 'best_model_ResNet.pth')\n",
    "            min_val_loss = val_loss\n",
    "            early_stopping_counter = 0\n",
    "        else:\n",
    "        # If not, increment the counter\n",
    "            early_stopping_counter += 1\n",
    "            print(f'EarlyStopping counter: {early_stopping_counter} out of {patience}')\n",
    "            if early_stopping_counter >= patience:\n",
    "                print('Early stopping')\n",
    "                break  # Stop the training process\n",
    "\n",
    "        # Print the loss and accuracy for this epoch in one line\n",
    "        print(f\"Epoch {epoch+1}/{epochs} | Training loss: {running_loss/len(trainloader)} | Validation loss: {val_loss} | Training accuracy: {100 * correct_train / total_train}% | Validation accuracy: {val_accuracy}%\")\n",
    "\n",
    "# Plot the training and validation loss\n",
    "plt.figure(figsize=(12, 4))\n",
    "plt.subplot(1, 2, 1)\n",
    "plt.plot(train_losses, label='Training Loss')\n",
    "plt.plot(val_losses, label='Validation Loss')\n",
    "plt.xlabel('Epoch')\n",
    "plt.ylabel('Loss')\n",
    "plt.legend()\n",
    "\n",
    "# Plot the training and validation accuracy\n",
    "plt.subplot(1, 2, 2)\n",
    "plt.plot(train_accuracies, label='Training Accuracy')\n",
    "plt.plot(val_accuracies, label='Validation Accuracy')\n",
    "plt.xlabel('Epoch')\n",
    "plt.ylabel('Accuracy')\n",
    "plt.legend()\n",
    "\n",
    "plt.show()"
   ]
  },
  {
   "cell_type": "code",
   "execution_count": 15,
   "metadata": {},
   "outputs": [
    {
     "name": "stdout",
     "output_type": "stream",
     "text": [
      "Accuracy of the network on the test images: 95 %\n"
     ]
    }
   ],
   "source": [
    "# Load the best model\n",
    "resnet.load_state_dict(torch.load('best_model_ResNet.pth'))\n",
    "\n",
    "resnet.eval()  # Set the model to evaluation mode\n",
    "\n",
    "correct = 0\n",
    "total = 0\n",
    "\n",
    "# No need to track gradients for validation, saves memory and computations\n",
    "with torch.no_grad():\n",
    "    for data in testloader:\n",
    "        images, labels = data\n",
    "        images, labels = images.to(device), labels.to(device)\n",
    "        outputs = resnet(images)\n",
    "        _, predicted = torch.max(outputs.data, 1)\n",
    "        total += labels.size(0)\n",
    "        correct += (predicted == labels).sum().item()\n",
    "\n",
    "print('Accuracy of the network on the test images: %d %%' % (100 * correct / total))"
   ]
  },
  {
   "cell_type": "code",
   "execution_count": 14,
   "metadata": {},
   "outputs": [
    {
     "name": "stdout",
     "output_type": "stream",
     "text": [
      "Accuracy of     0 : 100 %\n",
      "Accuracy of     1 : 100 %\n",
      "Accuracy of     2 : 100 %\n",
      "Accuracy of     3 : 100 %\n",
      "Accuracy of     4 : 88 %\n",
      "Accuracy of     5 : 100 %\n",
      "Accuracy of     6 : 100 %\n",
      "Accuracy of     7 : 100 %\n",
      "Accuracy of     8 : 100 %\n",
      "Accuracy of     9 : 100 %\n"
     ]
    }
   ],
   "source": [
    "# 得到每一个类别的准确率\n",
    "\n",
    "resnet.load_state_dict(torch.load('best_model_ResNet.pth'))\n",
    "\n",
    "# Set the model to evaluation mode\n",
    "resnet.eval()\n",
    "\n",
    "class_correct = list(0. for i in range(10))\n",
    "class_total = list(0. for i in range(10))\n",
    "\n",
    "# No need to track gradients for validation, saves memory and computations\n",
    "with torch.no_grad():\n",
    "    for data in testloader:\n",
    "        images, labels = data\n",
    "        images, labels = images.to(device), labels.to(device)\n",
    "        outputs = resnet(images)\n",
    "        _, predicted = torch.max(outputs, 1)\n",
    "        c = (predicted == labels).squeeze()\n",
    "        for i in range(4):\n",
    "            label = labels[i]\n",
    "            class_correct[label] += c[i].item()\n",
    "            class_total[label] += 1\n",
    "\n",
    "for i in range(10):\n",
    "    if class_total[i] != 0:\n",
    "        print('Accuracy of %5s : %2d %%' % (i, 100 * class_correct[i] / class_total[i]))\n",
    "    else:\n",
    "        print('Accuracy of %5s : N/A' % i)\n"
   ]
  },
  {
   "cell_type": "code",
   "execution_count": null,
   "metadata": {},
   "outputs": [],
   "source": []
  }
 ],
 "metadata": {
  "kernelspec": {
   "display_name": "pytorch",
   "language": "python",
   "name": "python3"
  },
  "language_info": {
   "codemirror_mode": {
    "name": "ipython",
    "version": 3
   },
   "file_extension": ".py",
   "mimetype": "text/x-python",
   "name": "python",
   "nbconvert_exporter": "python",
   "pygments_lexer": "ipython3",
   "version": "3.8.19"
  }
 },
 "nbformat": 4,
 "nbformat_minor": 2
}
